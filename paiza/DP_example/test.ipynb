{
 "cells": [
  {
   "attachments": {},
   "cell_type": "markdown",
   "metadata": {},
   "source": [
    "# 実装の流れ\n",
    "\n",
    "1. DP 配列を用意する\n",
    "2. 初期条件を入力する\n",
    "3. 漸化式にしたがって DP を実装する\n",
    "4. DB 配列の末尾を出力させる"
   ]
  },
  {
   "cell_type": "code",
   "execution_count": 4,
   "metadata": {},
   "outputs": [
    {
     "name": "stdout",
     "output_type": "stream",
     "text": [
      "3\n",
      "-1\n",
      "6\n",
      "2\n",
      "11\n"
     ]
    }
   ],
   "source": [
    "# 入力を読み込む\n",
    "x, d_1, d_2 = 3, 7, -4\n",
    "Q = 5\n",
    "K = [1, 2, 3, 4, 10]\n",
    "    \n",
    "# DP配列を用意する\n",
    "dp = [0] * max(K)\n",
    "\n",
    "# 初期条件を入力する\n",
    "dp[0] = x\n",
    "\n",
    "# 漸化式に従ってDPを実装する\n",
    "for n in range(1, max(K)):\n",
    "    # 第n項が奇数のとき\n",
    "    if (n + 1) % 2 == 1:\n",
    "        dp[n] = dp[n - 1] + d_1\n",
    "    # 第n項が偶数のとき\n",
    "    else:\n",
    "        dp[n] = dp[n - 1] + d_2\n",
    "        \n",
    "# 出力する\n",
    "for k in K:\n",
    "    print(dp[k - 1])"
   ]
  }
 ],
 "metadata": {
  "kernelspec": {
   "display_name": "Python 3",
   "language": "python",
   "name": "python3"
  },
  "language_info": {
   "codemirror_mode": {
    "name": "ipython",
    "version": 3
   },
   "file_extension": ".py",
   "mimetype": "text/x-python",
   "name": "python",
   "nbconvert_exporter": "python",
   "pygments_lexer": "ipython3",
   "version": "3.9.1"
  },
  "orig_nbformat": 4,
  "vscode": {
   "interpreter": {
    "hash": "f4ef0f25fa9f72748168b1c8712f91bb06906b7abd34898469f3b05c583f15cd"
   }
  }
 },
 "nbformat": 4,
 "nbformat_minor": 2
}
