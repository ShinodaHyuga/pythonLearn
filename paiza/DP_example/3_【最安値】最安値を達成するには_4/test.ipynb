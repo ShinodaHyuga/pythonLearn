{
 "cells": [
  {
   "cell_type": "code",
   "execution_count": 17,
   "metadata": {},
   "outputs": [
    {
     "name": "stdout",
     "output_type": "stream",
     "text": [
      "[200, 110, 200, 220]\n"
     ]
    }
   ],
   "source": [
    "n, a, b = 4, 110, 200\n",
    "\n",
    "dp_num = n + 3\n",
    "\n",
    "# ちょうど n + 5 個のりんごを買うのに必要な金額の最小値のDP配列\n",
    "dp = [0] * (dp_num + 1)  # 0 個から n 個まで\n",
    "\n",
    "# 初期条件を入力する\n",
    "dp[0] = 0\n",
    "dp[1] = 0\n",
    "dp[2] = a\n",
    "dp[3] = 0\n",
    "dp[4] = 2 * a\n",
    "\n",
    "# 漸化式に従ってDPを実装する\n",
    "for i in range(5, dp_num + 1):\n",
    "    dp[i] = min(\n",
    "        dp[i - 2] + a,\n",
    "        dp[i - 5] + b\n",
    "    )\n",
    "print(dp[4:])"
   ]
  },
  {
   "cell_type": "code",
   "execution_count": 48,
   "metadata": {},
   "outputs": [
    {
     "name": "stdout",
     "output_type": "stream",
     "text": [
      "200\n"
     ]
    },
    {
     "data": {
      "text/plain": [
       "[0, 0, 110, 0, 220, 200, 330, 0, 440, 0, 400, 0, 660, 0, 770]"
      ]
     },
     "execution_count": 48,
     "metadata": {},
     "output_type": "execute_result"
    }
   ],
   "source": [
    "n, a, b = 4, 110, 200\n",
    "#n, a, b = 121, 2337, 3916\n",
    "dp_num = n + 10\n",
    "\n",
    "dp = [0] * (dp_num + 1)\n",
    "dp_a = [0] * (dp_num + 1)\n",
    "dp_b = [0] * (dp_num + 1)\n",
    "\n",
    "for i in range(1, dp_num + 1):\n",
    "    if i % 2 == 0:\n",
    "        dp_a[i] = dp_a[i - 2] + a\n",
    "        \n",
    "    if i % 5 == 0:\n",
    "        dp_b[i] = dp_b[i - 5] + b\n",
    "\n",
    "    if i % 2 == 0 and i % 5 != 0:\n",
    "        dp[i] = dp_a[i]\n",
    "    elif i % 2 != 0 and i % 5 == 0:\n",
    "        dp[i] = dp_b[i]\n",
    "    elif i % 2 == 0 and i % 5 == 0:\n",
    "        dp[i] = min(dp_a[i], dp_b[i])\n",
    "\n",
    "print(min([i for i in dp[4:] if i != 0]))\n",
    "dp\n"
   ]
  },
  {
   "cell_type": "code",
   "execution_count": 51,
   "metadata": {},
   "outputs": [
    {
     "name": "stdout",
     "output_type": "stream",
     "text": [
      "200\n"
     ]
    }
   ],
   "source": [
    "n, a, b = 4, 110, 200\n",
    "\n",
    "dp_num = n + 6\n",
    "\n",
    "dp = [100001] * dp_num\n",
    "dp[0] = 0\n",
    "\n",
    "for i in range(2, dp_num):\n",
    "    dp[i] = min(\n",
    "        dp[i - 2] + a,\n",
    "        dp[i - 5] + b\n",
    "    )\n",
    "print(min(dp[n:]))"
   ]
  },
  {
   "cell_type": "code",
   "execution_count": 53,
   "metadata": {},
   "outputs": [
    {
     "name": "stdout",
     "output_type": "stream",
     "text": [
      "200\n"
     ]
    }
   ],
   "source": [
    "n, x, a, y, b = 4, 2, 110, 5, 200\n",
    "\n",
    "dp_num = n + b\n",
    "\n",
    "dp = [10001] * dp_num\n",
    "dp[0] = 0\n",
    "\n",
    "for i in range(2, dp_num):\n",
    "    dp[i] = min(\n",
    "        dp[i - x]  + a,\n",
    "        dp[i - y] + b\n",
    "    )\n",
    "print(min(dp[n:]))"
   ]
  },
  {
   "cell_type": "code",
   "execution_count": 55,
   "metadata": {},
   "outputs": [
    {
     "name": "stdout",
     "output_type": "stream",
     "text": [
      "375\n"
     ]
    }
   ],
   "source": [
    "n, x, a, y, b, z, c = 9, 2, 100, 3, 125, 5, 200\n",
    "\n",
    "dp_num = n + z\n",
    "\n",
    "dp = [10001] * dp_num\n",
    "\n",
    "dp[0] = 0\n",
    "\n",
    "for i in range(2, dp_num):\n",
    "    dp[i] = min(\n",
    "        dp[i - x] + a,\n",
    "        dp[i - y] + b,\n",
    "        dp[i - z] + c\n",
    "    )\n",
    "    \n",
    "print(min(dp[n : n + z]))"
   ]
  }
 ],
 "metadata": {
  "kernelspec": {
   "display_name": "Python 3",
   "language": "python",
   "name": "python3"
  },
  "language_info": {
   "codemirror_mode": {
    "name": "ipython",
    "version": 3
   },
   "file_extension": ".py",
   "mimetype": "text/x-python",
   "name": "python",
   "nbconvert_exporter": "python",
   "pygments_lexer": "ipython3",
   "version": "3.9.1"
  },
  "orig_nbformat": 4,
  "vscode": {
   "interpreter": {
    "hash": "f4ef0f25fa9f72748168b1c8712f91bb06906b7abd34898469f3b05c583f15cd"
   }
  }
 },
 "nbformat": 4,
 "nbformat_minor": 2
}
