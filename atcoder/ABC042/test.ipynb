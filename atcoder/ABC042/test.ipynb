{
 "cells": [
  {
   "cell_type": "code",
   "execution_count": 3,
   "metadata": {},
   "outputs": [
    {
     "name": "stdout",
     "output_type": "stream",
     "text": [
      "axxcxxdxx\n"
     ]
    }
   ],
   "source": [
    "#!/usr/bin/env python3\n",
    "# -*- coding: utf-8 -*-\n",
    "\n",
    "\"\"\"\n",
    "A - 和風いろはちゃんイージー\n",
    "https://atcoder.jp/contests/abc042/tasks/abc042_a\n",
    "\"\"\"\n",
    "N, L = 3, 3\n",
    "S = [\"dxx\", \"axx\", \"cxx\"]\n",
    "\n",
    "S.sort()\n",
    "print(\"\".join(S))\n"
   ]
  },
  {
   "cell_type": "code",
   "execution_count": 17,
   "metadata": {},
   "outputs": [
    {
     "name": "stdout",
     "output_type": "stream",
     "text": [
      "9999\n"
     ]
    }
   ],
   "source": [
    "#!/usr/bin/env python3\n",
    "# -*- coding: utf-8 -*-\n",
    "\n",
    "\"\"\"\n",
    "C - こだわり者いろはちゃん\n",
    "https://atcoder.jp/contests/abc042/tasks/arc058_a\n",
    "\"\"\"\n",
    "\n",
    "N, K = 9999, 1\n",
    "D = [0]\n",
    "\n",
    "for i in range(N, N * 10):\n",
    "    cnt = 0\n",
    "    for d in D:\n",
    "        if str(d) in str(i):\n",
    "            break\n",
    "        else:\n",
    "            cnt += 1\n",
    "            \n",
    "    if cnt == len(D):\n",
    "        print(i)\n",
    "        break\n",
    "\n"
   ]
  },
  {
   "cell_type": "code",
   "execution_count": 66,
   "metadata": {},
   "outputs": [
    {
     "data": {
      "text/plain": [
       "19448.0"
      ]
     },
     "execution_count": 66,
     "metadata": {},
     "output_type": "execute_result"
    }
   ],
   "source": [
    "#!/usr/bin/env python3\n",
    "# -*- coding: utf-8 -*-\n",
    "\n",
    "\"\"\"\n",
    "D - いろはちゃんとマス目\n",
    "https://atcoder.jp/contests/abc042/tasks/arc058_b\n",
    "\"\"\"\n",
    "\n",
    "# 階上の計算\n",
    "def Upstairs(n):\n",
    "    result = 1\n",
    "    for i in range(1, n + 1):\n",
    "        result *= i\n",
    "    return result\n",
    "\n",
    "# コンビネーションの計算\n",
    "def Combination(n, r):\n",
    "    return Upstairs(n) / Upstairs(n - r) / Upstairs(r)\n",
    "\n",
    "H, W, A, B = 10, 7, 3, 4\n",
    "\n",
    "all_pass = Combination(H + W, W)\n",
    "all_pass  # 3582になればオッケー"
   ]
  }
 ],
 "metadata": {
  "kernelspec": {
   "display_name": "Python 3",
   "language": "python",
   "name": "python3"
  },
  "language_info": {
   "codemirror_mode": {
    "name": "ipython",
    "version": 3
   },
   "file_extension": ".py",
   "mimetype": "text/x-python",
   "name": "python",
   "nbconvert_exporter": "python",
   "pygments_lexer": "ipython3",
   "version": "3.9.1"
  },
  "orig_nbformat": 4,
  "vscode": {
   "interpreter": {
    "hash": "f4ef0f25fa9f72748168b1c8712f91bb06906b7abd34898469f3b05c583f15cd"
   }
  }
 },
 "nbformat": 4,
 "nbformat_minor": 2
}
