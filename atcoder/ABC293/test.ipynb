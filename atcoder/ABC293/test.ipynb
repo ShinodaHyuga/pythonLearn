{
 "cells": [
  {
   "cell_type": "code",
   "execution_count": 5,
   "metadata": {},
   "outputs": [
    {
     "name": "stdout",
     "output_type": "stream",
     "text": [
      "ba\n",
      "badc\n",
      "badcfe\n"
     ]
    }
   ],
   "source": [
    "S = \"abcdef\"\n",
    "Sout = \"\"\n",
    "for i in range(0, 3):\n",
    "    s1 = S[2 * i]\n",
    "    s2 = S[2 * i + 1]\n",
    "    Sout += s1 + s2\n",
    "    print(Sout)"
   ]
  },
  {
   "cell_type": "code",
   "execution_count": 26,
   "metadata": {},
   "outputs": [
    {
     "name": "stdout",
     "output_type": "stream",
     "text": [
      "10\n",
      "1 2 5 6 8 11 14 17 18 20\n"
     ]
    },
    {
     "data": {
      "text/plain": [
       "[3, 4, 7, 9, 10, 12, 13, 15, 16, 19]"
      ]
     },
     "execution_count": 26,
     "metadata": {},
     "output_type": "execute_result"
    }
   ],
   "source": [
    "N = 20\n",
    "A = [9, 7, 19, 7, 10, 4, 13, 9, 4, 8, 10, 15, 16, 3, 18, 19, 12, 13, 2, 12]\n",
    "\n",
    "Ns = [(i + 1) for i in range(N)]\n",
    "X = []\n",
    "\n",
    "for i in range(N):\n",
    "    if (i + 1) not in X:\n",
    "        X.append(A[i])\n",
    "X = list(set(X))\n",
    "\n",
    "for x in X:\n",
    "    Ns.remove(x)\n",
    "\n",
    "print(len(Ns))\n",
    "print(*Ns)\n",
    "X"
   ]
  },
  {
   "cell_type": "code",
   "execution_count": 25,
   "metadata": {},
   "outputs": [
    {
     "name": "stdout",
     "output_type": "stream",
     "text": [
      "[3, 4, 7, 9, 10, 12, 13, 15, 16, 19]\n",
      "[1, 2, 5, 6, 8, 11, 14, 17, 18, 20]\n"
     ]
    }
   ],
   "source": [
    "N = 20\n",
    "A = [9, 7, 19, 7, 10, 4, 13, 9, 4, 8, 10, 15, 16, 3, 18, 19, 12, 13, 2, 12]\n",
    "\n",
    "Ns = [(i + 1) for i in range(N)]\n",
    "X = []\n",
    "\n",
    "for i in range(N):\n",
    "    if (i + 1) not in X:\n",
    "        X.append(A[i])\n",
    "X = list(set(X))\n",
    "print(X)\n",
    "print(list(\n",
    "    set(Ns) ^ set(X)\n",
    "))"
   ]
  }
 ],
 "metadata": {
  "kernelspec": {
   "display_name": "ds2",
   "language": "python",
   "name": "python3"
  },
  "language_info": {
   "codemirror_mode": {
    "name": "ipython",
    "version": 3
   },
   "file_extension": ".py",
   "mimetype": "text/x-python",
   "name": "python",
   "nbconvert_exporter": "python",
   "pygments_lexer": "ipython3",
   "version": "3.8.5"
  },
  "orig_nbformat": 4
 },
 "nbformat": 4,
 "nbformat_minor": 2
}
