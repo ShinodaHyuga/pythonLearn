{
 "cells": [
  {
   "cell_type": "code",
   "execution_count": 20,
   "metadata": {},
   "outputs": [
    {
     "name": "stdout",
     "output_type": "stream",
     "text": [
      "['0']\n",
      "['0', '1']\n",
      "['0']\n",
      "['0', '0']\n"
     ]
    }
   ],
   "source": [
    "s = \"01B0\"\n",
    "s_list = list(s)\n",
    "result = []\n",
    "\n",
    "for s_ in list(s):\n",
    "    if s_ == \"0\" or s_ == \"1\":\n",
    "        result.append(s_)\n",
    "    elif len(result) > 0:\n",
    "        result.pop(-1)\n",
    "    print(result)"
   ]
  },
  {
   "cell_type": "code",
   "execution_count": 22,
   "metadata": {},
   "outputs": [
    {
     "data": {
      "text/plain": [
       "'00'"
      ]
     },
     "execution_count": 22,
     "metadata": {},
     "output_type": "execute_result"
    }
   ],
   "source": [
    "\"\".join(result)"
   ]
  },
  {
   "cell_type": "code",
   "execution_count": 30,
   "metadata": {},
   "outputs": [
    {
     "data": {
      "text/plain": [
       "[16, 10, 8, 10, 16]"
      ]
     },
     "execution_count": 30,
     "metadata": {},
     "output_type": "execute_result"
    }
   ],
   "source": [
    "N = 2\n",
    "A = [4, 8]\n",
    "result = []\n",
    "\n",
    "for y in range(min(A), max(A) + 1):\n",
    "    cost = 0\n",
    "    for x in A:\n",
    "        cost += (x - y) ** 2\n",
    "    result.append(cost)\n",
    "result"
   ]
  },
  {
   "cell_type": "code",
   "execution_count": 123,
   "metadata": {},
   "outputs": [
    {
     "name": "stdout",
     "output_type": "stream",
     "text": [
      "2 5\n"
     ]
    }
   ],
   "source": [
    "s = \"needed\"\n",
    "result = [0] * 26\n",
    "alpabets = [chr(c) for c in range(97, 123)]\n",
    "\n",
    "# 文字列の長さが2未満\n",
    "if len(s) < 2:\n",
    "    ans = \"-1 -1\"\n",
    "\n",
    "else:\n",
    "    for s_ in s:\n",
    "        result[ord(s_) - 97] += 1\n",
    "    # 複数の文字の数が最大値をとる\n",
    "    if result.count(max(result)) > 1:\n",
    "        ans = \"-1 -1\"\n",
    "    else:\n",
    "        max_alphabet = chr(result.index(max(result)) + 97)\n",
    "        \n",
    "        ans = \"{} {}\".format(\n",
    "            s.index(max_alphabet) + 1,\n",
    "            len(s) - s[::-1].index(max_alphabet)\n",
    "        )\n",
    "    \n",
    "print(ans)\n"
   ]
  },
  {
   "cell_type": "code",
   "execution_count": 108,
   "metadata": {},
   "outputs": [
    {
     "data": {
      "text/plain": [
       "'o'"
      ]
     },
     "execution_count": 108,
     "metadata": {},
     "output_type": "execute_result"
    }
   ],
   "source": [
    "result.index(max(result))\n",
    "chr(14 + 97)"
   ]
  },
  {
   "cell_type": "code",
   "execution_count": 126,
   "metadata": {},
   "outputs": [
    {
     "name": "stdout",
     "output_type": "stream",
     "text": [
      "1 2\n"
     ]
    }
   ],
   "source": [
    "s = input()\n",
    " \n",
    "for i in range(len(s)-1):\n",
    "  if s[i] == s[i+1]:\n",
    "    print(i+1, i+2)\n",
    "    break\n",
    "else:\n",
    "  for i in range(len(s)-2):\n",
    "    if s[i] == s[i+2]:\n",
    "      print(i+1, i+3)\n",
    "      break\n",
    "  else:\n",
    "    print(-1, -1)"
   ]
  }
 ],
 "metadata": {
  "kernelspec": {
   "display_name": "Python 3",
   "language": "python",
   "name": "python3"
  },
  "language_info": {
   "codemirror_mode": {
    "name": "ipython",
    "version": 3
   },
   "file_extension": ".py",
   "mimetype": "text/x-python",
   "name": "python",
   "nbconvert_exporter": "python",
   "pygments_lexer": "ipython3",
   "version": "3.9.1"
  },
  "orig_nbformat": 4,
  "vscode": {
   "interpreter": {
    "hash": "f4ef0f25fa9f72748168b1c8712f91bb06906b7abd34898469f3b05c583f15cd"
   }
  }
 },
 "nbformat": 4,
 "nbformat_minor": 2
}
