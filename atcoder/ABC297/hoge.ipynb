{
 "cells": [
  {
   "cell_type": "code",
   "execution_count": 1,
   "metadata": {},
   "outputs": [
    {
     "name": "stdout",
     "output_type": "stream",
     "text": [
      "2A = \n",
      "[[2, 4], [0, 2], [10, 2]]\n",
      "A x B = \n",
      "[[1, -4, 8, 6], [0, -1, 2, 3], [5, -11, 22, 3]]\n"
     ]
    },
    {
     "ename": "",
     "evalue": "",
     "output_type": "error",
     "traceback": [
      "\u001b[1;31m現在のセルまたは前のセルでコードを実行中に、カーネルがクラッシュしました。エラーの原因を特定するには、セル内のコードを確認してください。詳細については、<a href='https://aka.ms/vscodeJupyterKernelCrash'>こちら</a> をクリックしてください。さらなる詳細については、Jupyter [log] (command:jupyter.viewOutput) を参照してください。"
     ]
    }
   ],
   "source": [
    "#!/usr/bin/env python                                                                                                                   \n",
    "# -*- coding : utf-8 -*-\n",
    "\n",
    "def get_matrix_scalar_mul(matrix, n): \n",
    "    if isinstance(matrix[0], list):\n",
    "        return [get_matrix_scalar_mul(matrix[i], n) for i in range(len(matrix))]\n",
    "\n",
    "    return [x*n for x in matrix]\n",
    "\n",
    "def get_inner_prod(raw, col):\n",
    "    return sum([x*y for (x,y) in zip(raw,col)])\n",
    "\n",
    "def get_matrix_trans(matrix):\n",
    "    # malloc n*m matrix\n",
    "    matrix_t = [[0 for j in range(len(matrix))] for i in range(len(matrix[0]))]\n",
    "\n",
    "    for i in range(len(matrix)):\n",
    "        for j in range(len(matrix[i])):\n",
    "            matrix_t[j][i] = matrix[i][j]\n",
    "\n",
    "    return matrix_t\n",
    "\n",
    "def get_matrix_mul(matrix1, matrix2):\n",
    "    # malloc A_m*B_n matrix\n",
    "    result = [[0 for j in range(len(matrix2[0]))] for i in range(len(matrix1))]\n",
    "    matrix2_t = get_matrix_trans(matrix2)\n",
    "\n",
    "    for i in range(len(result)):\n",
    "        for j in range(len(result[0])):\n",
    "            result[i][j] = get_inner_prod(matrix1[i], matrix2_t[j])\n",
    "\n",
    "    return result\n",
    "\n",
    "if __name__ != '__main__':\n",
    "    exit(None)\n",
    "#\n",
    "# main\n",
    "#\n",
    "A = [ [1,2], \\\n",
    "      [0,1], \\\n",
    "      [5,1]]\n",
    "\n",
    "B = [[1,-2,4,0], \\\n",
    "     [0,-1,2,3]]\n",
    "\n",
    "print('2A = ')\n",
    "print(get_matrix_scalar_mul(A, 2))\n",
    "\n",
    "print('A x B = ')\n",
    "print(get_matrix_mul(A, B))\n",
    "\n",
    "exit(None) "
   ]
  },
  {
   "cell_type": "code",
   "execution_count": 34,
   "metadata": {},
   "outputs": [
    {
     "data": {
      "text/plain": [
       "[['-1 × (x+5) + 0 × y + 0 × 1'],\n",
       " ['0 × (x+5) + 1 × y + 0 × 1'],\n",
       " ['0 × (x+5) + 0 × y + 1 × 1']]"
      ]
     },
     "execution_count": 34,
     "metadata": {},
     "output_type": "execute_result"
    }
   ],
   "source": [
    "l_c = [[-1, 0, 0],\n",
    "       [0, 1, 0],\n",
    "       [0, 0, 1]]\n",
    "l_d = [\n",
    "    [\"(x+5)\"],\n",
    "    [\"y\"],\n",
    "    [1]]\n",
    "\n",
    "\n",
    "\n",
    "dim_r_a = len(l_c)\n",
    "dim_c_a = len(l_c[0])\n",
    "dim_r_b = len(l_d)\n",
    "dim_c_b = len(l_d[0])\n",
    "l_mult = []\n",
    "for row in range(dim_r_a):\n",
    "    temp = []\n",
    "    for col in range(dim_c_b):\n",
    "        elm = \"\"\n",
    "        for nth in range(dim_c_a):\n",
    "            elm += f\"{str(l_c[row][nth])} × {str(l_d[nth][col])} + \"\n",
    "        temp.append(elm[: -3])\n",
    "    l_mult.append(temp)\n",
    "l_mult"
   ]
  }
 ],
 "metadata": {
  "kernelspec": {
   "display_name": "pd_env",
   "language": "python",
   "name": "python3"
  },
  "language_info": {
   "codemirror_mode": {
    "name": "ipython",
    "version": 3
   },
   "file_extension": ".py",
   "mimetype": "text/x-python",
   "name": "python",
   "nbconvert_exporter": "python",
   "pygments_lexer": "ipython3",
   "version": "3.9.12"
  },
  "orig_nbformat": 4
 },
 "nbformat": 4,
 "nbformat_minor": 2
}
